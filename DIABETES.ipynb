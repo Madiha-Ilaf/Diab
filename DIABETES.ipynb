{
 "cells": [
  {
   "cell_type": "code",
   "execution_count": null,
   "id": "4aa8dbf1",
   "metadata": {},
   "outputs": [],
   "source": [
    "#importing Libraries\n",
    "import numpy as np   \n",
    "np.random.seed(42)   ## so that output would be same\n",
    "import matplotlib.pyplot as plt\n",
    "import pandas as pd\n",
    "import seaborn as sns\n",
    "#models\n",
    "from sklearn.ensemble import RandomForestClassifier\n",
    "from sklearn.tree import DecisionTreeClassifier\n",
    "from sklearn.linear_model import LogisticRegression\n",
    "from sklearn.neighbors import KNeighborsClassifier\n",
    "from sklearn.svm import SVC\n",
    "#Evaluation\n",
    "from sklearn.model_selection import train_test_split,cross_val_score\n",
    "from sklearn.model_selection import RandomizedSearchCV,GridSearchCV\n",
    "from sklearn.metrics import confusion_matrix, classification_report\n",
    "from sklearn.metrics import precision_score, recall_score, f1_score\n",
    "from sklearn.metrics import plot_roc_curve\n",
    "#for warning\n",
    "from warnings import filterwarnings\n",
    "filterwarnings(\"ignore\")  ## To remove any kind of warning"
   ]
  },
  {
   "cell_type": "markdown",
   "id": "fc746aba",
   "metadata": {},
   "source": [
    "# Load the data set"
   ]
  },
  {
   "cell_type": "code",
   "execution_count": null,
   "id": "a1716996",
   "metadata": {},
   "outputs": [],
   "source": [
    "data=pd.read_csv(\"https://raw.githubusercontent.com/Abhayparashar31/Diabetes-prediction/master/diabetes.csv\")"
   ]
  },
  {
   "cell_type": "markdown",
   "id": "dfd46528",
   "metadata": {},
   "source": [
    "# EDA on Dataset\n"
   ]
  },
  {
   "cell_type": "code",
   "execution_count": null,
   "id": "e4f377c4",
   "metadata": {},
   "outputs": [],
   "source": [
    "print(data.shape)\n",
    "print(data.ndim)\n",
    "print(data.size)\n",
    "print(data.isna().sum())\n",
    "print(data.info)\n"
   ]
  },
  {
   "cell_type": "code",
   "execution_count": null,
   "id": "a42bfd4d",
   "metadata": {},
   "outputs": [],
   "source": [
    "data['Outcome'].value_counts().plot(kind='bar',color=['salmon','deeppink'])\n",
    "plt.xticks(np.arange(2),('No Diabetes','Diabetes'),rotation=0)"
   ]
  },
  {
   "cell_type": "code",
   "execution_count": null,
   "id": "ad8bbed8",
   "metadata": {},
   "outputs": [],
   "source": [
    "# Comparing Glucose with the outcome\n",
    "pd.crosstab(data.Glucose[::15],data.Outcome).plot(kind=\"bar\",figsize=(18,8),color=['yellow','deeppink'])\n",
    "plt.ylabel('people');\n",
    "plt.xticks(rotation=0);\n",
    "plt.legend(['NO DIABETES','DIABETES']);\n"
   ]
  },
  {
   "cell_type": "code",
   "execution_count": null,
   "id": "f71c5787",
   "metadata": {},
   "outputs": [],
   "source": [
    "#find out Blood Pressure and age of entries who have diabetes\n",
    "\n",
    "plt.figure(figsize=(10,6))\n",
    "\n",
    "# Scatter plot with positive example\n",
    "plt.scatter(data.Age[data.Outcome==1],data.BloodPressure[data.Outcome==1],color='Red');\n",
    "\n",
    "# Scatter plot with negative example\n",
    "plt.scatter(data.Age[data.Outcome==0],data.BloodPressure[data.Outcome==0],color='purple');\n",
    "\n",
    "\n",
    "# Add some helpful info\n",
    "\n",
    "plt.title('Diabetes in function of Age and BloodPressure')\n",
    "plt.xlabel(\"Age\")\n",
    "plt.ylabel(\"Blood Pressure\")\n",
    "plt.legend([\"Diabetes\",\"No Diabetes\"]);\n"
   ]
  },
  {
   "cell_type": "code",
   "execution_count": null,
   "id": "49dc28ce",
   "metadata": {},
   "outputs": [],
   "source": [
    "## pairplotting of dataframe\n",
    "import seaborn as sns\n",
    "sns.set(style='ticks',color_codes=True)\n",
    "sns.pairplot(data,hue='Outcome',palette='gnuplot');"
   ]
  },
  {
   "cell_type": "code",
   "execution_count": null,
   "id": "1870f4e0",
   "metadata": {},
   "outputs": [],
   "source": [
    "# Histogram of all columns when the outcome is 1( has diabetes)\n",
    "fig,ax = plt.subplots(nrows=4, ncols=2, figsize=(12, 10))\n",
    "fig.tight_layout(pad=3.0)\n",
    "ax[0,0].set_title('Glucose')\n",
    "ax[0,0].hist(data.Glucose[data.Outcome==1]);\n",
    "ax[0,1].set_title('Pregnancies')\n",
    "ax[0,1].hist(data.Pregnancies[data.Outcome==1]);\n",
    "ax[1,0].set_title('Age')\n",
    "ax[1,0].hist(data.Age[data.Outcome==1]);\n",
    "ax[1,1].set_title('Blood Pressure')\n",
    "ax[1,1].hist(data.BloodPressure[data.Outcome==1]);\n",
    "ax[2,0].set_title('Skin Thickness ')\n",
    "ax[2,0].hist(data.SkinThickness[data.Outcome==1]);\n",
    "ax[2,1].set_title('Insulin')\n",
    "ax[2,1].hist(data.Insulin[data.Outcome==1]);\n",
    "ax[3,0].set_title('BMI')\n",
    "ax[3,0].hist(data.BMI[data.Outcome==1]);\n",
    "ax[3,1].set_title('Diabetes Pedigree Function')\n",
    "ax[3,1].hist(data.DiabetesPedigreeFunction[data.Outcome==1]);\n"
   ]
  },
  {
   "cell_type": "code",
   "execution_count": null,
   "id": "9251fadf",
   "metadata": {},
   "outputs": [],
   "source": [
    "# CORRELATION MATRIX BETWEEN COLUMNS\n",
    "## IT SHOWS THE CORRELATION (POSITIVE,NEGATIVE) BETWEEN DIFFERENT COLUMNS(ONLY INTEGER VALUE COLUMNS)\n",
    "\n",
    "corr_matrix = data.corr()\n",
    "fig,ax = plt.subplots(figsize=(15,10))\n",
    "ax = sns.heatmap(corr_matrix,annot=True,linewidth=0.5,fmt='.2f',cmap='YlGnBu')"
   ]
  },
  {
   "cell_type": "markdown",
   "id": "7172f200",
   "metadata": {},
   "source": [
    "# MODELLING AND TRAINING"
   ]
  },
  {
   "cell_type": "code",
   "execution_count": null,
   "id": "5b74f883",
   "metadata": {},
   "outputs": [],
   "source": [
    "#random data shuffelin\n",
    "\n",
    "data.sample(frac=1)\n",
    "\n",
    "#Splitting the data\n",
    "x=data.drop(\"Outcome\",axis=1)\n",
    "y=data['Outcome']\n",
    "x_train,x_test,y_train,y_test = train_test_split(x,y,test_size=0.2)"
   ]
  },
  {
   "cell_type": "markdown",
   "id": "9e9ac6e1",
   "metadata": {},
   "source": [
    "# We are going to train our model on 4 algorithms\n",
    "## 1.Logistic Regression\n",
    "## 2.KNN\n",
    "## 3.Random Forest Classifier\n",
    "## 4.Support Vector Machine"
   ]
  },
  {
   "cell_type": "code",
   "execution_count": null,
   "id": "5e1fce8c",
   "metadata": {},
   "outputs": [],
   "source": [
    "## Build an model (Logistic Regression)\n",
    "from sklearn.linear_model import LogisticRegression\n",
    "log_reg = LogisticRegression(random_state=0)\n",
    "log_reg.fit(x_train,y_train);\n",
    "## Evaluating the model\n",
    "log_reg = log_reg.score(x_test,y_test)\n",
    "## Build an model (KNN)\n",
    "knn = KNeighborsClassifier()\n",
    "knn.fit(x_train,y_train);\n",
    "## Evaluating the model\n",
    "knn = knn.score(x_test,y_test)\n",
    "## Build an model (Random forest classifier)\n",
    "clf= RandomForestClassifier()\n",
    "clf.fit(x_train,y_train);\n",
    "## Evaluating the model\n",
    "clf = clf.score(x_test,y_test)\n",
    "## Build an model (Support Vector Machine)\n",
    "svm = SVC()\n",
    "svm.fit(x_train,y_train)\n",
    "## Evaluating the model\n",
    "svm = svm.score(x_test,y_test)"
   ]
  },
  {
   "cell_type": "markdown",
   "id": "7984e4a7",
   "metadata": {},
   "source": [
    "## Let’s visualize the training performance of all the models\n"
   ]
  },
  {
   "cell_type": "code",
   "execution_count": null,
   "id": "71e5e5ef",
   "metadata": {
    "scrolled": true
   },
   "outputs": [],
   "source": [
    "model_compare = pd.DataFrame({\"Logistic Regression\":log_reg,\"KNN\":knn,\"Random Forest Classifier\":clf,\"Support Vector Machine\":svm},index=[\"accuracy\"])\n",
    "model_compare.T.plot(kind='bar',figsize=(15,10));"
   ]
  },
  {
   "cell_type": "code",
   "execution_count": null,
   "id": "01cec5c5",
   "metadata": {},
   "outputs": [],
   "source": [
    "model_compare"
   ]
  },
  {
   "cell_type": "markdown",
   "id": "b611c239",
   "metadata": {},
   "source": [
    "## Hyperparameter Tuning using GridSearchcv\n"
   ]
  },
  {
   "cell_type": "code",
   "execution_count": null,
   "id": "2b4f2b31",
   "metadata": {},
   "outputs": [],
   "source": [
    "log_reg_grid = {'C': np.logspace(-4,4,30),\n",
    "\"solver\":[\"liblinear\"]}\n",
    "#setup  the gird cv\n",
    "gs_log_reg = GridSearchCV(LogisticRegression(),\n",
    "                          param_grid=log_reg_grid,\n",
    "                          cv=5,\n",
    "                           verbose=True)\n",
    "#fit grid search cv\n",
    "gs_log_reg.fit(x_train,y_train)\n",
    "score = gs_log_reg.score(x_test,y_test)\n",
    "print(score*100)"
   ]
  },
  {
   "cell_type": "markdown",
   "id": "e1183a94",
   "metadata": {},
   "source": [
    "## Using Grid Search CV we have increased the accuracy by up to 2.5%."
   ]
  },
  {
   "cell_type": "markdown",
   "id": "1c94ac82",
   "metadata": {},
   "source": [
    "## Best Model is logistic Regression with 83% accuracy"
   ]
  },
  {
   "cell_type": "markdown",
   "id": "6efef387",
   "metadata": {},
   "source": [
    "# Evaluate the model"
   ]
  },
  {
   "cell_type": "code",
   "execution_count": null,
   "id": "9a7ca384",
   "metadata": {},
   "outputs": [],
   "source": [
    "y_preds = gs_log_reg.predict(x_test)\n",
    "y_preds"
   ]
  },
  {
   "cell_type": "markdown",
   "id": "82d4ef38",
   "metadata": {},
   "source": [
    "## Let see the confusion matrix, accuracy score, classification report, and roc curve."
   ]
  },
  {
   "cell_type": "markdown",
   "id": "544207a1",
   "metadata": {},
   "source": [
    "## confusion matrix\n"
   ]
  },
  {
   "cell_type": "code",
   "execution_count": null,
   "id": "a56d9245",
   "metadata": {},
   "outputs": [],
   "source": [
    "sns.set(font_scale=2)\n",
    "import seaborn as sns\n",
    "sns.heatmap(confusion_matrix(y_test,y_pred),annot=True,cbar=False,fmt='g')\n",
    "plt.xlabel(\"True label\")\n",
    "plt.ylabel(\"Predicted label\");"
   ]
  },
  {
   "cell_type": "markdown",
   "id": "3a1e9600",
   "metadata": {},
   "source": [
    "## accuracy score\n"
   ]
  },
  {
   "cell_type": "code",
   "execution_count": null,
   "id": "90242623",
   "metadata": {},
   "outputs": [],
   "source": [
    "from sklearn.metrics import accuracy_score\n",
    "print(accuracy_score(y_test,y_pred))\n"
   ]
  },
  {
   "cell_type": "markdown",
   "id": "21d1347a",
   "metadata": {},
   "source": [
    "## Classification Report\n"
   ]
  },
  {
   "cell_type": "code",
   "execution_count": null,
   "id": "0fe50f7e",
   "metadata": {},
   "outputs": [],
   "source": [
    "from sklearn.metrics import classification_report\n",
    "print(classification_report(y_test,y_preds))"
   ]
  },
  {
   "cell_type": "markdown",
   "id": "7f024b95",
   "metadata": {},
   "source": [
    "## ROC Curve\n"
   ]
  },
  {
   "cell_type": "code",
   "execution_count": null,
   "id": "440f100f",
   "metadata": {},
   "outputs": [],
   "source": [
    "plot_roc_curve(gs_log_reg,x_test,y_test)"
   ]
  },
  {
   "cell_type": "markdown",
   "id": "66d00fb2",
   "metadata": {},
   "source": [
    "## Save and Load the model\n"
   ]
  },
  {
   "cell_type": "code",
   "execution_count": null,
   "id": "c057f4b9",
   "metadata": {},
   "outputs": [],
   "source": [
    "import pickle\n",
    "# Save trained model to file\n",
    "pickle.dump(gs_log_reg,open(\"Diabetes.pkl\",\"wb\"))\n",
    "\n",
    "loaded_model = pickle.load(open(\"Diabetes.pkl\",\"rb\"))\n",
    "loaded_model.predict(x_test)\n",
    "loaded_model.score(x_test,y_test)"
   ]
  },
  {
   "cell_type": "code",
   "execution_count": null,
   "id": "ef1ec893",
   "metadata": {},
   "outputs": [],
   "source": []
  }
 ],
 "metadata": {
  "kernelspec": {
   "display_name": "Python 3",
   "language": "python",
   "name": "python3"
  },
  "language_info": {
   "codemirror_mode": {
    "name": "ipython",
    "version": 3
   },
   "file_extension": ".py",
   "mimetype": "text/x-python",
   "name": "python",
   "nbconvert_exporter": "python",
   "pygments_lexer": "ipython3",
   "version": "3.10.1"
  }
 },
 "nbformat": 4,
 "nbformat_minor": 5
}
